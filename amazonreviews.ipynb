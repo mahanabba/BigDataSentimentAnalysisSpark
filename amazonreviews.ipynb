{
  "nbformat": 4,
  "nbformat_minor": 0,
  "metadata": {
    "colab": {
      "name": "amazonreviews.ipynb",
      "provenance": [],
      "include_colab_link": true
    },
    "kernelspec": {
      "name": "python3",
      "display_name": "Python 3"
    },
    "accelerator": "TPU"
  },
  "cells": [
    {
      "cell_type": "markdown",
      "metadata": {
        "id": "view-in-github",
        "colab_type": "text"
      },
      "source": [
        "<a href=\"https://colab.research.google.com/github/mahanabba/BigDataSentimentAnalysisSpark/blob/master/amazonreviews.ipynb\" target=\"_parent\"><img src=\"https://colab.research.google.com/assets/colab-badge.svg\" alt=\"Open In Colab\"/></a>"
      ]
    },
    {
      "cell_type": "code",
      "metadata": {
        "id": "BJY8tOriCkbR",
        "colab_type": "code",
        "colab": {}
      },
      "source": [
        "!apt-get install openjdk-8-jdk-headless -qq > /dev/null\n",
        "!wget -q http://www-eu.apache.org/dist/spark/spark-2.4.4/spark-2.4.4-bin-hadoop2.7.tgz\n",
        "!tar xf spark-2.4.4-bin-hadoop2.7.tgz\n",
        "!pip install -q findspark"
      ],
      "execution_count": 0,
      "outputs": []
    },
    {
      "cell_type": "code",
      "metadata": {
        "id": "Kez8En9CC5Pu",
        "colab_type": "code",
        "outputId": "015640e4-de70-4280-d2ae-bbf8bbe08e53",
        "colab": {
          "base_uri": "https://localhost:8080/",
          "height": 102
        }
      },
      "source": [
        "!pip install py4j"
      ],
      "execution_count": 0,
      "outputs": [
        {
          "output_type": "stream",
          "text": [
            "Collecting py4j\n",
            "\u001b[?25l  Downloading https://files.pythonhosted.org/packages/04/de/2d314a921ef4c20b283e1de94e0780273678caac901564df06b948e4ba9b/py4j-0.10.8.1-py2.py3-none-any.whl (196kB)\n",
            "\r\u001b[K     |█▊                              | 10kB 14.4MB/s eta 0:00:01\r\u001b[K     |███▍                            | 20kB 2.2MB/s eta 0:00:01\r\u001b[K     |█████                           | 30kB 3.2MB/s eta 0:00:01\r\u001b[K     |██████▊                         | 40kB 2.1MB/s eta 0:00:01\r\u001b[K     |████████▍                       | 51kB 2.6MB/s eta 0:00:01\r\u001b[K     |██████████                      | 61kB 3.1MB/s eta 0:00:01\r\u001b[K     |███████████▊                    | 71kB 3.6MB/s eta 0:00:01\r\u001b[K     |█████████████▍                  | 81kB 4.0MB/s eta 0:00:01\r\u001b[K     |███████████████                 | 92kB 4.5MB/s eta 0:00:01\r\u001b[K     |████████████████▊               | 102kB 3.5MB/s eta 0:00:01\r\u001b[K     |██████████████████▍             | 112kB 3.5MB/s eta 0:00:01\r\u001b[K     |████████████████████            | 122kB 3.5MB/s eta 0:00:01\r\u001b[K     |█████████████████████▊          | 133kB 3.5MB/s eta 0:00:01\r\u001b[K     |███████████████████████▍        | 143kB 3.5MB/s eta 0:00:01\r\u001b[K     |█████████████████████████       | 153kB 3.5MB/s eta 0:00:01\r\u001b[K     |██████████████████████████▊     | 163kB 3.5MB/s eta 0:00:01\r\u001b[K     |████████████████████████████▍   | 174kB 3.5MB/s eta 0:00:01\r\u001b[K     |██████████████████████████████  | 184kB 3.5MB/s eta 0:00:01\r\u001b[K     |███████████████████████████████▊| 194kB 3.5MB/s eta 0:00:01\r\u001b[K     |████████████████████████████████| 204kB 3.5MB/s \n",
            "\u001b[?25hInstalling collected packages: py4j\n",
            "Successfully installed py4j-0.10.8.1\n"
          ],
          "name": "stdout"
        }
      ]
    },
    {
      "cell_type": "code",
      "metadata": {
        "id": "0dJol_-2DDCb",
        "colab_type": "code",
        "colab": {}
      },
      "source": [
        "import os\n",
        "os.environ[\"JAVA_HOME\"] = \"/usr/lib/jvm/java-8-openjdk-amd64\"\n",
        "os.environ[\"SPARK_HOME\"] = \"/content/spark-2.4.4-bin-hadoop2.7\""
      ],
      "execution_count": 0,
      "outputs": []
    },
    {
      "cell_type": "code",
      "metadata": {
        "id": "CzB9lIHvDFcA",
        "colab_type": "code",
        "colab": {}
      },
      "source": [
        "import findspark\n",
        "findspark.init()# SPARK_HOME\n",
        "\n",
        "from pyspark.sql import SparkSession\n",
        "spark = SparkSession.builder.appName(\"truerev\").getOrCreate()"
      ],
      "execution_count": 0,
      "outputs": []
    },
    {
      "cell_type": "code",
      "metadata": {
        "id": "0cWFCggHEI5k",
        "colab_type": "code",
        "outputId": "74b342c5-949c-4a5f-daaf-58fea319bbd4",
        "colab": {
          "base_uri": "https://localhost:8080/",
          "height": 459
        }
      },
      "source": [
        "from pyspark import SparkFiles\n",
        "url =\"https://s3.amazonaws.com/amazon-reviews-pds/tsv/amazon_reviews_us_Video_Games_v1_00.tsv.gz\"\n",
        "spark.sparkContext.addFile(url)\n",
        "df = spark.read.csv(SparkFiles.get(\"amazon_reviews_us_Video_Games_v1_00.tsv.gz\"), sep=\"\\t\", header=True)\n",
        "df.show()"
      ],
      "execution_count": 0,
      "outputs": [
        {
          "output_type": "stream",
          "text": [
            "+-----------+-----------+--------------+----------+--------------+--------------------+----------------+-----------+-------------+-----------+----+-----------------+--------------------+--------------------+-----------+\n",
            "|marketplace|customer_id|     review_id|product_id|product_parent|       product_title|product_category|star_rating|helpful_votes|total_votes|vine|verified_purchase|     review_headline|         review_body|review_date|\n",
            "+-----------+-----------+--------------+----------+--------------+--------------------+----------------+-----------+-------------+-----------+----+-----------------+--------------------+--------------------+-----------+\n",
            "|         US|   12039526| RTIS3L2M1F5SM|B001CXYMFS|     737716809|Thrustmaster T-Fl...|     Video Games|          5|            0|          0|   N|                Y|an amazing joysti...|Used this for Eli...| 2015-08-31|\n",
            "|         US|    9636577| R1ZV7R40OLHKD|B00M920ND6|     569686175|Tonsee 6 buttons ...|     Video Games|          5|            0|          0|   N|                Y|Definitely a sile...|Loved it,  I didn...| 2015-08-31|\n",
            "|         US|    2331478|R3BH071QLH8QMC|B0029CSOD2|      98937668|Hidden Mysteries:...|     Video Games|          1|            0|          1|   N|                Y|            One Star|poor quality work...| 2015-08-31|\n",
            "|         US|   52495923|R127K9NTSXA2YH|B00GOOSV98|      23143350|GelTabz Performan...|     Video Games|          3|            0|          0|   N|                Y|good, but could b...|nice, but tend to...| 2015-08-31|\n",
            "|         US|   14533949|R32ZWUXDJPW27Q|B00Y074JOM|     821342511|Zero Suit Samus a...|     Video Games|          4|            0|          0|   N|                Y|   Great but flawed.|Great amiibo, gre...| 2015-08-31|\n",
            "|         US|    2377552|R3AQQ4YUKJWBA6|B002UBI6W6|     328764615|Psyclone Recharge...|     Video Games|          1|            0|          0|   N|                Y|            One Star|The remote consta...| 2015-08-31|\n",
            "|         US|   17521011|R2F0POU5K6F73F|B008XHCLFO|      24234603|Protection for yo...|     Video Games|          5|            0|          0|   N|                Y|              A Must|I have a 2012-201...| 2015-08-31|\n",
            "|         US|   19676307|R3VNR804HYSMR6|B00BRA9R6A|     682267517|   Nerf 3DS XL Armor|     Video Games|          5|            0|          0|   N|                Y|          Five Stars|Perfect, kids lov...| 2015-08-31|\n",
            "|         US|     224068| R3GZTM72WA2QH|B009EPWJLA|     435241890|One Piece: Pirate...|     Video Games|          5|            0|          0|   N|                Y|          Five Stars|            Excelent| 2015-08-31|\n",
            "|         US|   48467989| RNQOY62705W1K|B0000AV7GB|     256572651|Playstation 2 Dan...|     Video Games|          4|            0|          0|   N|                Y|          Four Stars|Slippery but expe...| 2015-08-31|\n",
            "|         US|     106569|R1VTIA3JTYBY02|B00008KTNN|     384411423|Metal Arms: Glitc...|     Video Games|          5|            0|          0|   N|                N|          Five Stars|Love the game. Se...| 2015-08-31|\n",
            "|         US|   48269642|R29DOU8791QZL8|B000A3IA0Y|     472622859|72 Pin Connector ...|     Video Games|          1|            0|          0|   N|                Y| Game will get stuck|Does not fit prop...| 2015-08-31|\n",
            "|         US|   52738710|R15DUT1VIJ9RJZ|B0053BQN34|     577628462|uDraw Gametablet ...|     Video Games|          2|            0|          0|   N|                Y|We have tried it ...|This was way too ...| 2015-08-31|\n",
            "|         US|   10556786|R3IMF2MQ3OU9ZM|B002I0HIMI|     988218515|NBA 2K12(Covers M...|     Video Games|          4|            0|          0|   N|                Y|          Four Stars|Works great good ...| 2015-08-31|\n",
            "|         US|    2963837|R23H79DHOZTYAU|B0081EH12M|     770100932|New Trigger Grips...|     Video Games|          1|            1|          1|   N|                Y|Now i have to buy...|It did not fit th...| 2015-08-31|\n",
            "|         US|   23092109| RIV24EQAIXA4O|B005FMLZQQ|      24647669|Xbox 360 Media Re...|     Video Games|          5|            0|          0|   N|                Y|          Five Stars|perfect lightweig...| 2015-08-31|\n",
            "|         US|   23091728|R3UCNGYDVN24YB|B002BSA388|      33706205|Super Mario Galaxy 2|     Video Games|          5|            0|          0|   N|                Y|          Five Stars|               great| 2015-08-31|\n",
            "|         US|   10712640| RUL4H4XTTN2DY|B00BUSLSAC|     829667834|Nintendo 3DS XL -...|     Video Games|          5|            0|          0|   N|                Y|          Five Stars|Works beautifully...| 2015-08-31|\n",
            "|         US|   17455376|R20JF7Z4DHTNX5|B00KWF38AW|     110680188|Captain Toad:  Tr...|     Video Games|          5|            0|          0|   N|                Y|          Five Stars|Kids loved the ga...| 2015-08-31|\n",
            "|         US|   14754850|R2T1AJ5MFI2260|B00BRQJYA8|     616463426|Lego Batman 2: DC...|     Video Games|          4|            0|          0|   N|                Y|          Four Stars|           Goodngame| 2015-08-31|\n",
            "+-----------+-----------+--------------+----------+--------------+--------------------+----------------+-----------+-------------+-----------+----+-----------------+--------------------+--------------------+-----------+\n",
            "only showing top 20 rows\n",
            "\n"
          ],
          "name": "stdout"
        }
      ]
    },
    {
      "cell_type": "code",
      "metadata": {
        "id": "lvzPgIBGEfst",
        "colab_type": "code",
        "colab": {}
      },
      "source": [
        "productgroup = df.groupby(\"product_title\").count()"
      ],
      "execution_count": 0,
      "outputs": []
    },
    {
      "cell_type": "code",
      "metadata": {
        "id": "OWliopGBNIeU",
        "colab_type": "code",
        "outputId": "d321857a-5f05-479d-e914-2cc8bfc09627",
        "colab": {
          "base_uri": "https://localhost:8080/",
          "height": 459
        }
      },
      "source": [
        "reviews = productgroup.select(\"product_title\", \"count\")\n",
        "reviews.show()"
      ],
      "execution_count": 0,
      "outputs": [
        {
          "output_type": "stream",
          "text": [
            "+--------------------+-----+\n",
            "|       product_title|count|\n",
            "+--------------------+-----+\n",
            "|Green Yarn Yoshi ...|   27|\n",
            "|       GameShark Pro|   86|\n",
            "|Shin Megami Tense...|   56|\n",
            "|3DS/DSi/DSi XL Ca...|  140|\n",
            "|Razer Carcharias ...|    3|\n",
            "|PlayStation 3 - 3...|  491|\n",
            "|               Joust|    9|\n",
            "|Unreal Anthology ...|   74|\n",
            "|RollerCoaster Tyc...|   95|\n",
            "|3D Ultra Pinball:...|   12|\n",
            "|Retro-Bit Genesis...|   51|\n",
            "|Major League Base...|   17|\n",
            "|Sega Dreamcast Sy...|    9|\n",
            "|SEGA SATURN VIRTU...|    1|\n",
            "|   AMAZING SPIDERMAN|    2|\n",
            "|Neewer 2x Battery...|   58|\n",
            "|Female USB to Ori...|    2|\n",
            "|Full Parts Replac...|   16|\n",
            "|Black and White (...|    6|\n",
            "|Pearl Harbor-Zero...|    2|\n",
            "+--------------------+-----+\n",
            "only showing top 20 rows\n",
            "\n"
          ],
          "name": "stdout"
        }
      ]
    },
    {
      "cell_type": "code",
      "metadata": {
        "id": "qcRPBLrVWnT1",
        "colab_type": "code",
        "outputId": "fe3cfc41-1cfb-4983-a10f-afe1bfab2751",
        "colab": {
          "base_uri": "https://localhost:8080/",
          "height": 459
        }
      },
      "source": [
        "average_rating_df = df.groupby(\"product_title\").agg({\"star_rating\":\"avg\", \"product_title\":\"count\"}).orderBy('count(product_title)', ascending=False)\n",
        "average_rating_df.show()"
      ],
      "execution_count": 0,
      "outputs": [
        {
          "output_type": "stream",
          "text": [
            "+--------------------+------------------+--------------------+\n",
            "|       product_title|  avg(star_rating)|count(product_title)|\n",
            "+--------------------+------------------+--------------------+\n",
            "|PlayStation 4 500...| 4.163787279220153|               10361|\n",
            "|  Grand Theft Auto V| 4.544004589787722|                8715|\n",
            "|Call of Duty: Ghosts|3.7910371318822023|                7810|\n",
            "|       Battlefield 4|3.6683302141817427|                4809|\n",
            "|  Assassin's Creed 4|4.5639559508682765|                4722|\n",
            "|      The Last of Us| 4.733797303175294|                4598|\n",
            "|Elder Scrolls V: ...| 4.307251487767247|                4537|\n",
            "|             Destiny|3.7777777777777777|                4410|\n",
            "| Diablo III - PC/Mac|2.7177676537585422|                4390|\n",
            "|Call of Duty: Bla...| 4.065401326320604|                4373|\n",
            "|SimCity - Limited...| 1.452920443101712|                3972|\n",
            "|       Battlefield 3|3.8350619782443713|                3953|\n",
            "|      Rocksmith 2014| 4.255569782330346|                3905|\n",
            "|Call of Duty: Adv...| 4.144813059505003|                3798|\n",
            "|               Spore|1.6886661097187412|                3591|\n",
            "|     Nintendo Amiibo|4.6223512336719885|                3445|\n",
            "|Assassin's Creed III| 4.149486049926579|                3405|\n",
            "|E-3lue Cobra EMS1...|3.8833725029377204|                3404|\n",
            "|Microsoft Xbox360...| 4.534411764705882|                3400|\n",
            "|Minecraft - Xbox 360| 4.652315914489312|                3368|\n",
            "+--------------------+------------------+--------------------+\n",
            "only showing top 20 rows\n",
            "\n"
          ],
          "name": "stdout"
        }
      ]
    },
    {
      "cell_type": "code",
      "metadata": {
        "id": "26IlBoXFXtIU",
        "colab_type": "code",
        "outputId": "65f421d6-4c9c-499e-adf8-c68067c8489a",
        "colab": {
          "base_uri": "https://localhost:8080/",
          "height": 136
        }
      },
      "source": [
        "vine_rating = df.groupby(\"vine\").agg({\"star_rating\":\"avg\"})\n",
        "vine_rating.show()"
      ],
      "execution_count": 0,
      "outputs": [
        {
          "output_type": "stream",
          "text": [
            "+----+-----------------+\n",
            "|vine| avg(star_rating)|\n",
            "+----+-----------------+\n",
            "|   Y|4.074807737124213|\n",
            "|   N|4.059856676690767|\n",
            "+----+-----------------+\n",
            "\n"
          ],
          "name": "stdout"
        }
      ]
    },
    {
      "cell_type": "code",
      "metadata": {
        "id": "bwzBZfJ7YphL",
        "colab_type": "code",
        "outputId": "09cf47f9-f161-4c0e-df78-ecdec165140f",
        "colab": {
          "base_uri": "https://localhost:8080/",
          "height": 34
        }
      },
      "source": [
        "numrows = df.count()\n",
        "numrows"
      ],
      "execution_count": 0,
      "outputs": [
        {
          "output_type": "execute_result",
          "data": {
            "text/plain": [
              "1785997"
            ]
          },
          "metadata": {
            "tags": []
          },
          "execution_count": 10
        }
      ]
    },
    {
      "cell_type": "code",
      "metadata": {
        "id": "4CcHEvHT3jOB",
        "colab_type": "code",
        "outputId": "88b585d8-b5e1-4df6-ddf0-f4b245be79a8",
        "colab": {
          "base_uri": "https://localhost:8080/",
          "height": 306
        }
      },
      "source": [
        "df.printSchema()"
      ],
      "execution_count": 0,
      "outputs": [
        {
          "output_type": "stream",
          "text": [
            "root\n",
            " |-- marketplace: string (nullable = true)\n",
            " |-- customer_id: string (nullable = true)\n",
            " |-- review_id: string (nullable = true)\n",
            " |-- product_id: string (nullable = true)\n",
            " |-- product_parent: string (nullable = true)\n",
            " |-- product_title: string (nullable = true)\n",
            " |-- product_category: string (nullable = true)\n",
            " |-- star_rating: string (nullable = true)\n",
            " |-- helpful_votes: string (nullable = true)\n",
            " |-- total_votes: string (nullable = true)\n",
            " |-- vine: string (nullable = true)\n",
            " |-- verified_purchase: string (nullable = true)\n",
            " |-- review_headline: string (nullable = true)\n",
            " |-- review_body: string (nullable = true)\n",
            " |-- review_date: string (nullable = true)\n",
            "\n"
          ],
          "name": "stdout"
        }
      ]
    },
    {
      "cell_type": "code",
      "metadata": {
        "id": "ktH4wdmt5OUH",
        "colab_type": "code",
        "outputId": "d92978da-b035-46e3-a321-a9616a913717",
        "colab": {
          "base_uri": "https://localhost:8080/",
          "height": 459
        }
      },
      "source": [
        "nlp_df = df.select(\"star_rating\", \"review_body\")\n",
        "nlp_df.show()"
      ],
      "execution_count": 0,
      "outputs": [
        {
          "output_type": "stream",
          "text": [
            "+-----------+--------------------+\n",
            "|star_rating|         review_body|\n",
            "+-----------+--------------------+\n",
            "|          5|Used this for Eli...|\n",
            "|          5|Loved it,  I didn...|\n",
            "|          1|poor quality work...|\n",
            "|          3|nice, but tend to...|\n",
            "|          4|Great amiibo, gre...|\n",
            "|          1|The remote consta...|\n",
            "|          5|I have a 2012-201...|\n",
            "|          5|Perfect, kids lov...|\n",
            "|          5|            Excelent|\n",
            "|          4|Slippery but expe...|\n",
            "|          5|Love the game. Se...|\n",
            "|          1|Does not fit prop...|\n",
            "|          2|This was way too ...|\n",
            "|          4|Works great good ...|\n",
            "|          1|It did not fit th...|\n",
            "|          5|perfect lightweig...|\n",
            "|          5|               great|\n",
            "|          5|Works beautifully...|\n",
            "|          5|Kids loved the ga...|\n",
            "|          4|           Goodngame|\n",
            "+-----------+--------------------+\n",
            "only showing top 20 rows\n",
            "\n"
          ],
          "name": "stdout"
        }
      ]
    },
    {
      "cell_type": "code",
      "metadata": {
        "id": "hO5pD9pKp3LN",
        "colab_type": "code",
        "colab": {}
      },
      "source": [
        "from pyspark.sql.functions import UserDefinedFunction\n",
        "from pyspark.sql.types import StringType"
      ],
      "execution_count": 0,
      "outputs": []
    },
    {
      "cell_type": "code",
      "metadata": {
        "id": "6yQK0lbJ5_Pz",
        "colab_type": "code",
        "colab": {}
      },
      "source": [
        "udf = UserDefinedFunction(lambda x: 'good' if x >= '3' else 'bad', StringType())"
      ],
      "execution_count": 0,
      "outputs": []
    },
    {
      "cell_type": "code",
      "metadata": {
        "id": "Y3ScT9gf6kGV",
        "colab_type": "code",
        "outputId": "7832d4f2-3dad-4a71-e465-bf770d750b49",
        "colab": {
          "base_uri": "https://localhost:8080/",
          "height": 459
        }
      },
      "source": [
        "nlpclass = nlp_df.withColumn('star_rating', udf('star_rating'))\n",
        "nlpclass.show()\n"
      ],
      "execution_count": 0,
      "outputs": [
        {
          "output_type": "stream",
          "text": [
            "+-----------+--------------------+\n",
            "|star_rating|         review_body|\n",
            "+-----------+--------------------+\n",
            "|       good|Used this for Eli...|\n",
            "|       good|Loved it,  I didn...|\n",
            "|        bad|poor quality work...|\n",
            "|       good|nice, but tend to...|\n",
            "|       good|Great amiibo, gre...|\n",
            "|        bad|The remote consta...|\n",
            "|       good|I have a 2012-201...|\n",
            "|       good|Perfect, kids lov...|\n",
            "|       good|            Excelent|\n",
            "|       good|Slippery but expe...|\n",
            "|       good|Love the game. Se...|\n",
            "|        bad|Does not fit prop...|\n",
            "|        bad|This was way too ...|\n",
            "|       good|Works great good ...|\n",
            "|        bad|It did not fit th...|\n",
            "|       good|perfect lightweig...|\n",
            "|       good|               great|\n",
            "|       good|Works beautifully...|\n",
            "|       good|Kids loved the ga...|\n",
            "|       good|           Goodngame|\n",
            "+-----------+--------------------+\n",
            "only showing top 20 rows\n",
            "\n"
          ],
          "name": "stdout"
        }
      ]
    },
    {
      "cell_type": "code",
      "metadata": {
        "id": "P4ZXfW4L-x-m",
        "colab_type": "code",
        "outputId": "2dbf0352-ec17-4c9c-9fec-13290f376126",
        "colab": {
          "base_uri": "https://localhost:8080/",
          "height": 34
        }
      },
      "source": [
        "from pyspark.sql.functions import length\n",
        "nlpclass = nlpclass.withColumn('length', length(nlpclass['review_body']))\n",
        "testdf = nlpclass.selectExpr(\"star_rating as class\", \"review_body as text\", 'length as length')\n",
        "testdf.count()"
      ],
      "execution_count": 0,
      "outputs": [
        {
          "output_type": "execute_result",
          "data": {
            "text/plain": [
              "1785997"
            ]
          },
          "metadata": {
            "tags": []
          },
          "execution_count": 16
        }
      ]
    },
    {
      "cell_type": "code",
      "metadata": {
        "id": "_MyFcuibzY0O",
        "colab_type": "code",
        "outputId": "0b26f276-5eb6-4b1a-ccb4-930d675e42c0",
        "colab": {
          "base_uri": "https://localhost:8080/",
          "height": 34
        }
      },
      "source": [
        "testdfna = testdf.dropna(how='any')\n",
        "testdfna.count()"
      ],
      "execution_count": 0,
      "outputs": [
        {
          "output_type": "execute_result",
          "data": {
            "text/plain": [
              "1785893"
            ]
          },
          "metadata": {
            "tags": []
          },
          "execution_count": 17
        }
      ]
    },
    {
      "cell_type": "code",
      "metadata": {
        "id": "TAW97s1g18vT",
        "colab_type": "code",
        "outputId": "bac65396-1356-4cb3-c890-d3debf29235a",
        "colab": {
          "base_uri": "https://localhost:8080/",
          "height": 459
        }
      },
      "source": [
        "testdfna.show()"
      ],
      "execution_count": 0,
      "outputs": [
        {
          "output_type": "stream",
          "text": [
            "+-----+--------------------+------+\n",
            "|class|                text|length|\n",
            "+-----+--------------------+------+\n",
            "| good|Used this for Eli...|   178|\n",
            "| good|Loved it,  I didn...|   262|\n",
            "|  bad|poor quality work...|    46|\n",
            "| good|nice, but tend to...|    81|\n",
            "| good|Great amiibo, gre...|    90|\n",
            "|  bad|The remote consta...|    61|\n",
            "| good|I have a 2012-201...|    85|\n",
            "| good|Perfect, kids lov...|    64|\n",
            "| good|            Excelent|     8|\n",
            "| good|Slippery but expe...|    21|\n",
            "| good|Love the game. Se...|    71|\n",
            "|  bad|Does not fit prop...|   332|\n",
            "|  bad|This was way too ...|   339|\n",
            "| good|Works great good ...|    37|\n",
            "|  bad|It did not fit th...|    95|\n",
            "| good|perfect lightweig...|    52|\n",
            "| good|               great|     5|\n",
            "| good|Works beautifully...|    80|\n",
            "| good|Kids loved the ga...|    40|\n",
            "| good|           Goodngame|     9|\n",
            "+-----+--------------------+------+\n",
            "only showing top 20 rows\n",
            "\n"
          ],
          "name": "stdout"
        }
      ]
    },
    {
      "cell_type": "code",
      "metadata": {
        "id": "VBQMiKUOn1Xr",
        "colab_type": "code",
        "colab": {}
      },
      "source": [
        " from pyspark.ml.feature import Tokenizer, StopWordsRemover, HashingTF, IDF, StringIndexer\n",
        "# Create all the features to the data set\n",
        "pos_neg_to_num = StringIndexer(inputCol='class',outputCol='label')\n",
        "tokenizer = Tokenizer(inputCol=\"text\", outputCol=\"token_text\")\n",
        "stopremove = StopWordsRemover(inputCol='token_text',outputCol='stop_tokens')\n",
        "hashingTF = HashingTF(inputCol=\"token_text\", outputCol='hash_token')\n",
        "idf = IDF(inputCol='hash_token', outputCol='idf_token')"
      ],
      "execution_count": 0,
      "outputs": []
    },
    {
      "cell_type": "code",
      "metadata": {
        "id": "GFl6Ne-ntSBK",
        "colab_type": "code",
        "colab": {}
      },
      "source": [
        "\n",
        "from pyspark.ml.feature import VectorAssembler\n",
        "from pyspark.ml.linalg import Vector\n",
        "\n",
        "# Create feature vectors\n",
        "clean_up = VectorAssembler(inputCols=['idf_token', 'length'], outputCol='features')"
      ],
      "execution_count": 0,
      "outputs": []
    },
    {
      "cell_type": "code",
      "metadata": {
        "id": "xR8IoQMYuFkq",
        "colab_type": "code",
        "colab": {}
      },
      "source": [
        "#build pipeline to transform data\n",
        "from pyspark.ml import Pipeline\n",
        "data_prep_pipeline = Pipeline(stages=[pos_neg_to_num, tokenizer, stopremove, hashingTF, idf, clean_up])"
      ],
      "execution_count": 0,
      "outputs": []
    },
    {
      "cell_type": "code",
      "metadata": {
        "id": "xJdLPZYOuO-l",
        "colab_type": "code",
        "colab": {}
      },
      "source": [
        "cleaner = data_prep_pipeline.fit(testdfna)\n",
        "cleaned = cleaner.transform(testdfna)"
      ],
      "execution_count": 0,
      "outputs": []
    },
    {
      "cell_type": "code",
      "metadata": {
        "id": "iNp6lGVRuaGS",
        "colab_type": "code",
        "outputId": "f3499424-8294-4690-9eb7-b41fcba2f19f",
        "colab": {
          "base_uri": "https://localhost:8080/",
          "height": 459
        }
      },
      "source": [
        "cleaned.select(['label', 'features']).show()"
      ],
      "execution_count": 0,
      "outputs": [
        {
          "output_type": "stream",
          "text": [
            "+-----+--------------------+\n",
            "|label|            features|\n",
            "+-----+--------------------+\n",
            "|  0.0|(262145,[15775,16...|\n",
            "|  0.0|(262145,[1536,120...|\n",
            "|  1.0|(262145,[15889,34...|\n",
            "|  0.0|(262145,[9129,410...|\n",
            "|  0.0|(262145,[16332,29...|\n",
            "|  1.0|(262145,[12142,78...|\n",
            "|  0.0|(262145,[14,15889...|\n",
            "|  0.0|(262145,[11382,16...|\n",
            "|  0.0|(262145,[90499,26...|\n",
            "|  0.0|(262145,[128746,1...|\n",
            "|  0.0|(262145,[16994,37...|\n",
            "|  1.0|(262145,[2437,420...|\n",
            "|  1.0|(262145,[2437,844...|\n",
            "|  0.0|(262145,[12888,11...|\n",
            "|  1.0|(262145,[24417,28...|\n",
            "|  0.0|(262145,[12888,64...|\n",
            "|  0.0|(262145,[138356,2...|\n",
            "|  0.0|(262145,[9639,128...|\n",
            "|  0.0|(262145,[26379,33...|\n",
            "|  0.0|(262145,[118959,2...|\n",
            "+-----+--------------------+\n",
            "only showing top 20 rows\n",
            "\n"
          ],
          "name": "stdout"
        }
      ]
    },
    {
      "cell_type": "code",
      "metadata": {
        "id": "8clyRaoRwX4o",
        "colab_type": "code",
        "colab": {}
      },
      "source": [
        "from pyspark.ml.classification import NaiveBayes\n",
        "# split\n",
        "training, testing = cleaned.randomSplit([0.7, 0.3])\n",
        "\n",
        "#fit\n",
        "nb = NaiveBayes()\n",
        "predictor = nb.fit(training)"
      ],
      "execution_count": 0,
      "outputs": []
    },
    {
      "cell_type": "code",
      "metadata": {
        "id": "AiQXnqVb293e",
        "colab_type": "code",
        "outputId": "e475b5ff-4f1e-4d92-f9bf-900ca055def3",
        "colab": {
          "base_uri": "https://localhost:8080/",
          "height": 34
        }
      },
      "source": [
        "from pyspark.ml.evaluation import MulticlassClassificationEvaluator\n",
        "\n",
        "test_results = predictor.transform(testing)\n",
        "\n",
        "acc_eval = MulticlassClassificationEvaluator()\n",
        "acc = acc_eval.evaluate(test_results)\n",
        "print(\"Accuracy of model at predicting reviews was: %f\" % acc)"
      ],
      "execution_count": 0,
      "outputs": [
        {
          "output_type": "stream",
          "text": [
            "Accuracy of model at predicting reviews was: 0.855174\n"
          ],
          "name": "stdout"
        }
      ]
    },
    {
      "cell_type": "code",
      "metadata": {
        "id": "HkkRbOvs-Ph8",
        "colab_type": "code",
        "outputId": "a265406d-71bd-4826-e200-1c4357d688c4",
        "colab": {
          "base_uri": "https://localhost:8080/",
          "height": 204
        }
      },
      "source": [
        "test_results.show(5)"
      ],
      "execution_count": 0,
      "outputs": [
        {
          "output_type": "stream",
          "text": [
            "+-----+--------------------+------+-----+--------------------+--------------------+--------------------+--------------------+--------------------+--------------------+--------------------+----------+\n",
            "|class|                text|length|label|          token_text|         stop_tokens|          hash_token|           idf_token|            features|       rawPrediction|         probability|prediction|\n",
            "+-----+--------------------+------+-----+--------------------+--------------------+--------------------+--------------------+--------------------+--------------------+--------------------+----------+\n",
            "|  bad|! did not charge,...|    39|  1.0|[!, did, not, cha...|[!, charge,, retu...|(262144,[16332,28...|(262144,[16332,28...|(262145,[16332,28...|[-332.60198862042...|[3.28179040591690...|       1.0|\n",
            "|  bad|!! WARNING: Befor...|   629|  1.0|[!!, warning:, be...|[!!, warning:, bu...|(262144,[1867,963...|(262144,[1867,963...|(262145,[1867,963...|[-3767.0125940026...|[4.59759930764479...|       1.0|\n",
            "|  bad|!!!!!!!!!!!!!!!! ...|   335|  1.0|[!!!!!!!!!!!!!!!!...|[!!!!!!!!!!!!!!!!...|(262144,[1536,158...|(262144,[1536,158...|(262145,[1536,158...|[-1768.7320115901...|[0.02005601804243...|       1.0|\n",
            "|  bad|!!!!!!!!!!!!!!!!!...|   646|  1.0|[!!!!!!!!!!!!!!!!...|[!!!!!!!!!!!!!!!!...|(262144,[1836,635...|(262144,[1836,635...|(262145,[1836,635...|[-3177.1838108187...|[3.86021648952525...|       1.0|\n",
            "|  bad|!!!Beaware !!!! T...|   239|  1.0|[!!!beaware, !!!!...|[!!!beaware, !!!!...|(262144,[2979,706...|(262144,[2979,706...|(262145,[2979,706...|[-1996.4539942367...|[0.99999999986024...|       0.0|\n",
            "+-----+--------------------+------+-----+--------------------+--------------------+--------------------+--------------------+--------------------+--------------------+--------------------+----------+\n",
            "only showing top 5 rows\n",
            "\n"
          ],
          "name": "stdout"
        }
      ]
    },
    {
      "cell_type": "code",
      "metadata": {
        "id": "TVdHJDM0m_WX",
        "colab_type": "code",
        "colab": {}
      },
      "source": [
        "testpred = test_results.select(\"label\", \"prediction\").toPandas()"
      ],
      "execution_count": 0,
      "outputs": []
    },
    {
      "cell_type": "code",
      "metadata": {
        "id": "6P9WUtwQ0bl7",
        "colab_type": "code",
        "outputId": "eca89d3e-82f4-40f4-ac6c-724c03319736",
        "colab": {
          "base_uri": "https://localhost:8080/",
          "height": 51
        }
      },
      "source": [
        "from sklearn.metrics import confusion_matrix\n",
        "matrix = confusion_matrix(testpred[\"label\"], testpred[\"prediction\"])\n",
        "matrix"
      ],
      "execution_count": 0,
      "outputs": [
        {
          "output_type": "execute_result",
          "data": {
            "text/plain": [
              "array([[385713,  64591],\n",
              "       [ 19586,  66278]])"
            ]
          },
          "metadata": {
            "tags": []
          },
          "execution_count": 31
        }
      ]
    },
    {
      "cell_type": "code",
      "metadata": {
        "id": "1sJb8vh26Gdy",
        "colab_type": "code",
        "colab": {}
      },
      "source": [
        "from google.colab import drive\n",
        "drive.mount('/content/gdrive')"
      ],
      "execution_count": 0,
      "outputs": []
    },
    {
      "cell_type": "code",
      "metadata": {
        "id": "GMM083EX6QSr",
        "colab_type": "code",
        "colab": {}
      },
      "source": [
        "model_save_name = 'classifier.json'\n",
        "path = f\"/content/gdrive/My Drive/{model_save_name}\"\n",
        "predictor.save(path)"
      ],
      "execution_count": 0,
      "outputs": []
    },
    {
      "cell_type": "code",
      "metadata": {
        "id": "ggJH6Hy89ou9",
        "colab_type": "code",
        "colab": {}
      },
      "source": [
        "from pyspark.ml.classification import NaiveBayesModel\n",
        "\n",
        "loaded = NaiveBayesModel.load(path)"
      ],
      "execution_count": 0,
      "outputs": []
    },
    {
      "cell_type": "code",
      "metadata": {
        "id": "T0Eg_d6N976j",
        "colab_type": "code",
        "outputId": "6d7df341-8d59-41df-b52d-7f274fe7c01e",
        "colab": {
          "base_uri": "https://localhost:8080/",
          "height": 34
        }
      },
      "source": [
        "training2, testing2 = cleaned.randomSplit([0.999, 0.001])\n",
        "loadedres = loaded.transform(testing2)\n",
        "acc_eval2 = MulticlassClassificationEvaluator()\n",
        "acc2 = acc_eval.evaluate(loadedres)\n",
        "print(f'Accuracy of loaded model is {acc2}')"
      ],
      "execution_count": 0,
      "outputs": [
        {
          "output_type": "stream",
          "text": [
            "Accuracy of loaded model is 0.8827848478758961\n"
          ],
          "name": "stdout"
        }
      ]
    },
    {
      "cell_type": "code",
      "metadata": {
        "id": "1wzgsaNl9_o6",
        "colab_type": "code",
        "colab": {}
      },
      "source": [
        "#TODO = hyperparameter tuning with CV"
      ],
      "execution_count": 0,
      "outputs": []
    },
    {
      "cell_type": "code",
      "metadata": {
        "id": "ZHFGuZ09-C9c",
        "colab_type": "code",
        "colab": {}
      },
      "source": [
        ""
      ],
      "execution_count": 0,
      "outputs": []
    }
  ]
}
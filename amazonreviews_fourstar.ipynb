{
  "nbformat": 4,
  "nbformat_minor": 0,
  "metadata": {
    "colab": {
      "name": "amazonreviews.ipynb",
      "provenance": [],
      "include_colab_link": true
    },
    "kernelspec": {
      "name": "python3",
      "display_name": "Python 3"
    },
    "accelerator": "TPU"
  },
  "cells": [
    {
      "cell_type": "markdown",
      "metadata": {
        "id": "view-in-github",
        "colab_type": "text"
      },
      "source": [
        "<a href=\"https://colab.research.google.com/github/mahanabba/BigDataSentimentAnalysisSpark/blob/master/amazonreviews_fourstar.ipynb\" target=\"_parent\"><img src=\"https://colab.research.google.com/assets/colab-badge.svg\" alt=\"Open In Colab\"/></a>"
      ]
    },
    {
      "cell_type": "code",
      "metadata": {
        "id": "BJY8tOriCkbR",
        "colab_type": "code",
        "colab": {}
      },
      "source": [
        "# Install Java, Spark, and Findspark\n",
        "!apt-get install openjdk-8-jdk-headless -qq > /dev/null\n",
        "!wget -q http://www-us.apache.org/dist/spark/spark-2.4.5/spark-2.4.5-bin-hadoop2.7.tgz\n",
        "!tar xf spark-2.4.5-bin-hadoop2.7.tgz\n",
        "!pip install -q findspark\n",
        "\n",
        "# Set Environment Variables\n",
        "import os\n",
        "os.environ[\"JAVA_HOME\"] = \"/usr/lib/jvm/java-8-openjdk-amd64\"\n",
        "os.environ[\"SPARK_HOME\"] = \"/content/spark-2.4.5-bin-hadoop2.7\"\n",
        "\n",
        "# Start a SparkSession\n",
        "import findspark\n",
        "findspark.init()"
      ],
      "execution_count": 0,
      "outputs": []
    },
    {
      "cell_type": "code",
      "metadata": {
        "id": "Kez8En9CC5Pu",
        "colab_type": "code",
        "colab": {}
      },
      "source": [
        ""
      ],
      "execution_count": 0,
      "outputs": []
    },
    {
      "cell_type": "code",
      "metadata": {
        "id": "0dJol_-2DDCb",
        "colab_type": "code",
        "colab": {}
      },
      "source": [
        ""
      ],
      "execution_count": 0,
      "outputs": []
    },
    {
      "cell_type": "code",
      "metadata": {
        "id": "6P8iBxXJlK7N",
        "colab_type": "code",
        "colab": {}
      },
      "source": [
        ""
      ],
      "execution_count": 0,
      "outputs": []
    },
    {
      "cell_type": "code",
      "metadata": {
        "id": "CzB9lIHvDFcA",
        "colab_type": "code",
        "colab": {}
      },
      "source": [
        "from pyspark.sql import SparkSession\n",
        "spark = SparkSession.builder.appName(\"truerev\").getOrCreate()"
      ],
      "execution_count": 0,
      "outputs": []
    },
    {
      "cell_type": "code",
      "metadata": {
        "id": "0cWFCggHEI5k",
        "colab_type": "code",
        "outputId": "c62461ae-ce3f-4f4a-e008-95d6afb4722b",
        "colab": {
          "base_uri": "https://localhost:8080/",
          "height": 478
        }
      },
      "source": [
        "from pyspark import SparkFiles\n",
        "url =\"https://s3.amazonaws.com/amazon-reviews-pds/tsv/amazon_reviews_us_Video_Games_v1_00.tsv.gz\"\n",
        "spark.sparkContext.addFile(url)\n",
        "df = spark.read.csv(SparkFiles.get(\"amazon_reviews_us_Video_Games_v1_00.tsv.gz\"), sep=\"\\t\", header=True)\n",
        "df.show()"
      ],
      "execution_count": 0,
      "outputs": [
        {
          "output_type": "stream",
          "text": [
            "+-----------+-----------+--------------+----------+--------------+--------------------+----------------+-----------+-------------+-----------+----+-----------------+--------------------+--------------------+-----------+\n",
            "|marketplace|customer_id|     review_id|product_id|product_parent|       product_title|product_category|star_rating|helpful_votes|total_votes|vine|verified_purchase|     review_headline|         review_body|review_date|\n",
            "+-----------+-----------+--------------+----------+--------------+--------------------+----------------+-----------+-------------+-----------+----+-----------------+--------------------+--------------------+-----------+\n",
            "|         US|   12039526| RTIS3L2M1F5SM|B001CXYMFS|     737716809|Thrustmaster T-Fl...|     Video Games|          5|            0|          0|   N|                Y|an amazing joysti...|Used this for Eli...| 2015-08-31|\n",
            "|         US|    9636577| R1ZV7R40OLHKD|B00M920ND6|     569686175|Tonsee 6 buttons ...|     Video Games|          5|            0|          0|   N|                Y|Definitely a sile...|Loved it,  I didn...| 2015-08-31|\n",
            "|         US|    2331478|R3BH071QLH8QMC|B0029CSOD2|      98937668|Hidden Mysteries:...|     Video Games|          1|            0|          1|   N|                Y|            One Star|poor quality work...| 2015-08-31|\n",
            "|         US|   52495923|R127K9NTSXA2YH|B00GOOSV98|      23143350|GelTabz Performan...|     Video Games|          3|            0|          0|   N|                Y|good, but could b...|nice, but tend to...| 2015-08-31|\n",
            "|         US|   14533949|R32ZWUXDJPW27Q|B00Y074JOM|     821342511|Zero Suit Samus a...|     Video Games|          4|            0|          0|   N|                Y|   Great but flawed.|Great amiibo, gre...| 2015-08-31|\n",
            "|         US|    2377552|R3AQQ4YUKJWBA6|B002UBI6W6|     328764615|Psyclone Recharge...|     Video Games|          1|            0|          0|   N|                Y|            One Star|The remote consta...| 2015-08-31|\n",
            "|         US|   17521011|R2F0POU5K6F73F|B008XHCLFO|      24234603|Protection for yo...|     Video Games|          5|            0|          0|   N|                Y|              A Must|I have a 2012-201...| 2015-08-31|\n",
            "|         US|   19676307|R3VNR804HYSMR6|B00BRA9R6A|     682267517|   Nerf 3DS XL Armor|     Video Games|          5|            0|          0|   N|                Y|          Five Stars|Perfect, kids lov...| 2015-08-31|\n",
            "|         US|     224068| R3GZTM72WA2QH|B009EPWJLA|     435241890|One Piece: Pirate...|     Video Games|          5|            0|          0|   N|                Y|          Five Stars|            Excelent| 2015-08-31|\n",
            "|         US|   48467989| RNQOY62705W1K|B0000AV7GB|     256572651|Playstation 2 Dan...|     Video Games|          4|            0|          0|   N|                Y|          Four Stars|Slippery but expe...| 2015-08-31|\n",
            "|         US|     106569|R1VTIA3JTYBY02|B00008KTNN|     384411423|Metal Arms: Glitc...|     Video Games|          5|            0|          0|   N|                N|          Five Stars|Love the game. Se...| 2015-08-31|\n",
            "|         US|   48269642|R29DOU8791QZL8|B000A3IA0Y|     472622859|72 Pin Connector ...|     Video Games|          1|            0|          0|   N|                Y| Game will get stuck|Does not fit prop...| 2015-08-31|\n",
            "|         US|   52738710|R15DUT1VIJ9RJZ|B0053BQN34|     577628462|uDraw Gametablet ...|     Video Games|          2|            0|          0|   N|                Y|We have tried it ...|This was way too ...| 2015-08-31|\n",
            "|         US|   10556786|R3IMF2MQ3OU9ZM|B002I0HIMI|     988218515|NBA 2K12(Covers M...|     Video Games|          4|            0|          0|   N|                Y|          Four Stars|Works great good ...| 2015-08-31|\n",
            "|         US|    2963837|R23H79DHOZTYAU|B0081EH12M|     770100932|New Trigger Grips...|     Video Games|          1|            1|          1|   N|                Y|Now i have to buy...|It did not fit th...| 2015-08-31|\n",
            "|         US|   23092109| RIV24EQAIXA4O|B005FMLZQQ|      24647669|Xbox 360 Media Re...|     Video Games|          5|            0|          0|   N|                Y|          Five Stars|perfect lightweig...| 2015-08-31|\n",
            "|         US|   23091728|R3UCNGYDVN24YB|B002BSA388|      33706205|Super Mario Galaxy 2|     Video Games|          5|            0|          0|   N|                Y|          Five Stars|               great| 2015-08-31|\n",
            "|         US|   10712640| RUL4H4XTTN2DY|B00BUSLSAC|     829667834|Nintendo 3DS XL -...|     Video Games|          5|            0|          0|   N|                Y|          Five Stars|Works beautifully...| 2015-08-31|\n",
            "|         US|   17455376|R20JF7Z4DHTNX5|B00KWF38AW|     110680188|Captain Toad:  Tr...|     Video Games|          5|            0|          0|   N|                Y|          Five Stars|Kids loved the ga...| 2015-08-31|\n",
            "|         US|   14754850|R2T1AJ5MFI2260|B00BRQJYA8|     616463426|Lego Batman 2: DC...|     Video Games|          4|            0|          0|   N|                Y|          Four Stars|           Goodngame| 2015-08-31|\n",
            "+-----------+-----------+--------------+----------+--------------+--------------------+----------------+-----------+-------------+-----------+----+-----------------+--------------------+--------------------+-----------+\n",
            "only showing top 20 rows\n",
            "\n"
          ],
          "name": "stdout"
        }
      ]
    },
    {
      "cell_type": "code",
      "metadata": {
        "id": "nWfQd_E7jGOy",
        "colab_type": "code",
        "colab": {}
      },
      "source": [
        ""
      ],
      "execution_count": 0,
      "outputs": []
    },
    {
      "cell_type": "code",
      "metadata": {
        "id": "lvzPgIBGEfst",
        "colab_type": "code",
        "colab": {}
      },
      "source": [
        "productgroup = df.groupby(\"product_title\").count()"
      ],
      "execution_count": 0,
      "outputs": []
    },
    {
      "cell_type": "code",
      "metadata": {
        "id": "OWliopGBNIeU",
        "colab_type": "code",
        "outputId": "b28e47cd-d155-49ca-f20e-b631da8109fd",
        "colab": {
          "base_uri": "https://localhost:8080/",
          "height": 478
        }
      },
      "source": [
        "reviews = productgroup.select(\"product_title\", \"count\")\n",
        "reviews.show()"
      ],
      "execution_count": 0,
      "outputs": [
        {
          "output_type": "stream",
          "text": [
            "+--------------------+-----+\n",
            "|       product_title|count|\n",
            "+--------------------+-----+\n",
            "|Green Yarn Yoshi ...|   27|\n",
            "|       GameShark Pro|   86|\n",
            "|Shin Megami Tense...|   56|\n",
            "|3DS/DSi/DSi XL Ca...|  140|\n",
            "|Razer Carcharias ...|    3|\n",
            "|PlayStation 3 - 3...|  491|\n",
            "|               Joust|    9|\n",
            "|Unreal Anthology ...|   74|\n",
            "|RollerCoaster Tyc...|   95|\n",
            "|3D Ultra Pinball:...|   12|\n",
            "|Retro-Bit Genesis...|   51|\n",
            "|Major League Base...|   17|\n",
            "|Sega Dreamcast Sy...|    9|\n",
            "|SEGA SATURN VIRTU...|    1|\n",
            "|   AMAZING SPIDERMAN|    2|\n",
            "|Neewer 2x Battery...|   58|\n",
            "|Female USB to Ori...|    2|\n",
            "|Full Parts Replac...|   16|\n",
            "|Black and White (...|    6|\n",
            "|Pearl Harbor-Zero...|    2|\n",
            "+--------------------+-----+\n",
            "only showing top 20 rows\n",
            "\n"
          ],
          "name": "stdout"
        }
      ]
    },
    {
      "cell_type": "code",
      "metadata": {
        "id": "qcRPBLrVWnT1",
        "colab_type": "code",
        "outputId": "de660886-2fb6-4d0e-bf72-74a2d54e081b",
        "colab": {
          "base_uri": "https://localhost:8080/",
          "height": 478
        }
      },
      "source": [
        "average_rating_df = df.groupby(\"product_title\").agg({\"star_rating\":\"avg\", \"product_title\":\"count\"}).orderBy('count(product_title)', ascending=False)\n",
        "average_rating_df.show()"
      ],
      "execution_count": 0,
      "outputs": [
        {
          "output_type": "stream",
          "text": [
            "+--------------------+------------------+--------------------+\n",
            "|       product_title|  avg(star_rating)|count(product_title)|\n",
            "+--------------------+------------------+--------------------+\n",
            "|PlayStation 4 500...| 4.163787279220153|               10361|\n",
            "|  Grand Theft Auto V| 4.544004589787722|                8715|\n",
            "|Call of Duty: Ghosts|3.7910371318822023|                7810|\n",
            "|       Battlefield 4|3.6683302141817427|                4809|\n",
            "|  Assassin's Creed 4|4.5639559508682765|                4722|\n",
            "|      The Last of Us| 4.733797303175294|                4598|\n",
            "|Elder Scrolls V: ...| 4.307251487767247|                4537|\n",
            "|             Destiny|3.7777777777777777|                4410|\n",
            "| Diablo III - PC/Mac|2.7177676537585422|                4390|\n",
            "|Call of Duty: Bla...| 4.065401326320604|                4373|\n",
            "|SimCity - Limited...| 1.452920443101712|                3972|\n",
            "|       Battlefield 3|3.8350619782443713|                3953|\n",
            "|      Rocksmith 2014| 4.255569782330346|                3905|\n",
            "|Call of Duty: Adv...| 4.144813059505003|                3798|\n",
            "|               Spore|1.6886661097187412|                3591|\n",
            "|     Nintendo Amiibo|4.6223512336719885|                3445|\n",
            "|Assassin's Creed III| 4.149486049926579|                3405|\n",
            "|E-3lue Cobra EMS1...|3.8833725029377204|                3404|\n",
            "|Microsoft Xbox360...| 4.534411764705882|                3400|\n",
            "|Minecraft - Xbox 360| 4.652315914489312|                3368|\n",
            "+--------------------+------------------+--------------------+\n",
            "only showing top 20 rows\n",
            "\n"
          ],
          "name": "stdout"
        }
      ]
    },
    {
      "cell_type": "code",
      "metadata": {
        "id": "26IlBoXFXtIU",
        "colab_type": "code",
        "outputId": "902a225e-c7b3-47ea-b9f2-a51a3f4a781a",
        "colab": {
          "base_uri": "https://localhost:8080/",
          "height": 141
        }
      },
      "source": [
        "vine_rating = df.groupby(\"vine\").agg({\"star_rating\":\"avg\"})\n",
        "vine_rating.show()"
      ],
      "execution_count": 0,
      "outputs": [
        {
          "output_type": "stream",
          "text": [
            "+----+-----------------+\n",
            "|vine| avg(star_rating)|\n",
            "+----+-----------------+\n",
            "|   Y|4.074807737124213|\n",
            "|   N|4.059856676690767|\n",
            "+----+-----------------+\n",
            "\n"
          ],
          "name": "stdout"
        }
      ]
    },
    {
      "cell_type": "code",
      "metadata": {
        "id": "bwzBZfJ7YphL",
        "colab_type": "code",
        "outputId": "47afab58-e68b-4f02-9aee-f730a5684349",
        "colab": {
          "base_uri": "https://localhost:8080/",
          "height": 34
        }
      },
      "source": [
        "numrows = df.count()\n",
        "numrows"
      ],
      "execution_count": 0,
      "outputs": [
        {
          "output_type": "execute_result",
          "data": {
            "text/plain": [
              "1785997"
            ]
          },
          "metadata": {
            "tags": []
          },
          "execution_count": 8
        }
      ]
    },
    {
      "cell_type": "code",
      "metadata": {
        "id": "4CcHEvHT3jOB",
        "colab_type": "code",
        "outputId": "757a6fbe-1e33-4ba6-8366-eebc891725be",
        "colab": {
          "base_uri": "https://localhost:8080/",
          "height": 318
        }
      },
      "source": [
        "df.printSchema()"
      ],
      "execution_count": 0,
      "outputs": [
        {
          "output_type": "stream",
          "text": [
            "root\n",
            " |-- marketplace: string (nullable = true)\n",
            " |-- customer_id: string (nullable = true)\n",
            " |-- review_id: string (nullable = true)\n",
            " |-- product_id: string (nullable = true)\n",
            " |-- product_parent: string (nullable = true)\n",
            " |-- product_title: string (nullable = true)\n",
            " |-- product_category: string (nullable = true)\n",
            " |-- star_rating: string (nullable = true)\n",
            " |-- helpful_votes: string (nullable = true)\n",
            " |-- total_votes: string (nullable = true)\n",
            " |-- vine: string (nullable = true)\n",
            " |-- verified_purchase: string (nullable = true)\n",
            " |-- review_headline: string (nullable = true)\n",
            " |-- review_body: string (nullable = true)\n",
            " |-- review_date: string (nullable = true)\n",
            "\n"
          ],
          "name": "stdout"
        }
      ]
    },
    {
      "cell_type": "code",
      "metadata": {
        "id": "ktH4wdmt5OUH",
        "colab_type": "code",
        "outputId": "7a071def-fb36-49a8-9e27-4569281a204e",
        "colab": {
          "base_uri": "https://localhost:8080/",
          "height": 478
        }
      },
      "source": [
        "nlp_df = df.select(\"star_rating\", \"review_headline\", \"review_body\")\n",
        "nlp_df.show()"
      ],
      "execution_count": 0,
      "outputs": [
        {
          "output_type": "stream",
          "text": [
            "+-----------+--------------------+--------------------+\n",
            "|star_rating|     review_headline|         review_body|\n",
            "+-----------+--------------------+--------------------+\n",
            "|          5|an amazing joysti...|Used this for Eli...|\n",
            "|          5|Definitely a sile...|Loved it,  I didn...|\n",
            "|          1|            One Star|poor quality work...|\n",
            "|          3|good, but could b...|nice, but tend to...|\n",
            "|          4|   Great but flawed.|Great amiibo, gre...|\n",
            "|          1|            One Star|The remote consta...|\n",
            "|          5|              A Must|I have a 2012-201...|\n",
            "|          5|          Five Stars|Perfect, kids lov...|\n",
            "|          5|          Five Stars|            Excelent|\n",
            "|          4|          Four Stars|Slippery but expe...|\n",
            "|          5|          Five Stars|Love the game. Se...|\n",
            "|          1| Game will get stuck|Does not fit prop...|\n",
            "|          2|We have tried it ...|This was way too ...|\n",
            "|          4|          Four Stars|Works great good ...|\n",
            "|          1|Now i have to buy...|It did not fit th...|\n",
            "|          5|          Five Stars|perfect lightweig...|\n",
            "|          5|          Five Stars|               great|\n",
            "|          5|          Five Stars|Works beautifully...|\n",
            "|          5|          Five Stars|Kids loved the ga...|\n",
            "|          4|          Four Stars|           Goodngame|\n",
            "+-----------+--------------------+--------------------+\n",
            "only showing top 20 rows\n",
            "\n"
          ],
          "name": "stdout"
        }
      ]
    },
    {
      "cell_type": "code",
      "metadata": {
        "id": "ElDRsDxLCtj4",
        "colab_type": "code",
        "outputId": "b75a00ff-2a10-43c1-886e-50cf32ec9361",
        "colab": {
          "base_uri": "https://localhost:8080/",
          "height": 478
        }
      },
      "source": [
        "from pyspark.sql.functions import concat, lit, col\n",
        " \n",
        "nlp_df=df.select(\"star_rating\", concat(col(\"review_headline\"),lit(\" \"),col(\"review_body\")).alias(\"review\"))\n",
        "nlp_df.show()"
      ],
      "execution_count": 0,
      "outputs": [
        {
          "output_type": "stream",
          "text": [
            "+-----------+--------------------+\n",
            "|star_rating|              review|\n",
            "+-----------+--------------------+\n",
            "|          5|an amazing joysti...|\n",
            "|          5|Definitely a sile...|\n",
            "|          1|One Star poor qua...|\n",
            "|          3|good, but could b...|\n",
            "|          4|Great but flawed....|\n",
            "|          1|One Star The remo...|\n",
            "|          5|A Must I have a 2...|\n",
            "|          5|Five Stars Perfec...|\n",
            "|          5| Five Stars Excelent|\n",
            "|          4|Four Stars Slippe...|\n",
            "|          5|Five Stars Love t...|\n",
            "|          1|Game will get stu...|\n",
            "|          2|We have tried it ...|\n",
            "|          4|Four Stars Works ...|\n",
            "|          1|Now i have to buy...|\n",
            "|          5|Five Stars perfec...|\n",
            "|          5|    Five Stars great|\n",
            "|          5|Five Stars Works ...|\n",
            "|          5|Five Stars Kids l...|\n",
            "|          4|Four Stars Goodngame|\n",
            "+-----------+--------------------+\n",
            "only showing top 20 rows\n",
            "\n"
          ],
          "name": "stdout"
        }
      ]
    },
    {
      "cell_type": "code",
      "metadata": {
        "id": "hO5pD9pKp3LN",
        "colab_type": "code",
        "colab": {}
      },
      "source": [
        "from pyspark.sql.functions import UserDefinedFunction\n",
        "from pyspark.sql.types import StringType"
      ],
      "execution_count": 0,
      "outputs": []
    },
    {
      "cell_type": "code",
      "metadata": {
        "id": "6yQK0lbJ5_Pz",
        "colab_type": "code",
        "colab": {}
      },
      "source": [
        "udf = UserDefinedFunction(lambda x: 'good' if x >= '3' else 'bad', StringType())\n"
      ],
      "execution_count": 0,
      "outputs": []
    },
    {
      "cell_type": "code",
      "metadata": {
        "id": "Y3ScT9gf6kGV",
        "colab_type": "code",
        "outputId": "200a8d83-e79d-41bd-af63-8b030705e9de",
        "colab": {
          "base_uri": "https://localhost:8080/",
          "height": 478
        }
      },
      "source": [
        "nlpclass = nlp_df.withColumn('star_rating', udf('star_rating'))\n",
        "\n",
        "nlpclass2 = nlp_df.withColumn('star_rating', udf('star_rating'))\n",
        "nlpclass2.show()"
      ],
      "execution_count": 0,
      "outputs": [
        {
          "output_type": "stream",
          "text": [
            "+-----------+--------------------+\n",
            "|star_rating|              review|\n",
            "+-----------+--------------------+\n",
            "|       good|an amazing joysti...|\n",
            "|       good|Definitely a sile...|\n",
            "|        bad|One Star poor qua...|\n",
            "|       good|good, but could b...|\n",
            "|       good|Great but flawed....|\n",
            "|        bad|One Star The remo...|\n",
            "|       good|A Must I have a 2...|\n",
            "|       good|Five Stars Perfec...|\n",
            "|       good| Five Stars Excelent|\n",
            "|       good|Four Stars Slippe...|\n",
            "|       good|Five Stars Love t...|\n",
            "|        bad|Game will get stu...|\n",
            "|        bad|We have tried it ...|\n",
            "|       good|Four Stars Works ...|\n",
            "|        bad|Now i have to buy...|\n",
            "|       good|Five Stars perfec...|\n",
            "|       good|    Five Stars great|\n",
            "|       good|Five Stars Works ...|\n",
            "|       good|Five Stars Kids l...|\n",
            "|       good|Four Stars Goodngame|\n",
            "+-----------+--------------------+\n",
            "only showing top 20 rows\n",
            "\n"
          ],
          "name": "stdout"
        }
      ]
    },
    {
      "cell_type": "code",
      "metadata": {
        "id": "P4ZXfW4L-x-m",
        "colab_type": "code",
        "outputId": "0d557cca-79b9-4780-9f19-d416c00637c4",
        "colab": {
          "base_uri": "https://localhost:8080/",
          "height": 34
        }
      },
      "source": [
        "from pyspark.sql.functions import length\n",
        "nlpclass = nlpclass.withColumn('length', length(nlpclass['review']))\n",
        "testdf = nlpclass.selectExpr(\"star_rating as class\", \"review as text\", 'length as length')\n",
        "testdf2 = nlpclass2.selectExpr(\"star_rating as class\", \"review as text\", 'length as length')\n",
        "testdf.count()"
      ],
      "execution_count": 0,
      "outputs": [
        {
          "output_type": "execute_result",
          "data": {
            "text/plain": [
              "1785997"
            ]
          },
          "metadata": {
            "tags": []
          },
          "execution_count": 15
        }
      ]
    },
    {
      "cell_type": "code",
      "metadata": {
        "id": "_MyFcuibzY0O",
        "colab_type": "code",
        "outputId": "75b9ac85-d9af-4ce1-f24e-b4ed147bbc0d",
        "colab": {
          "base_uri": "https://localhost:8080/",
          "height": 34
        }
      },
      "source": [
        "testdfna = testdf.dropna(how='any')\n",
        "testdfna2 = testdf2.dropna(how='any')\n",
        "testdfna.count()"
      ],
      "execution_count": 0,
      "outputs": [
        {
          "output_type": "execute_result",
          "data": {
            "text/plain": [
              "1785892"
            ]
          },
          "metadata": {
            "tags": []
          },
          "execution_count": 16
        }
      ]
    },
    {
      "cell_type": "code",
      "metadata": {
        "id": "TAW97s1g18vT",
        "colab_type": "code",
        "outputId": "9bc95b31-dbbe-4b43-f28f-e29d53410d59",
        "colab": {
          "base_uri": "https://localhost:8080/",
          "height": 478
        }
      },
      "source": [
        "testdfna.show()"
      ],
      "execution_count": 0,
      "outputs": [
        {
          "output_type": "stream",
          "text": [
            "+-----+--------------------+------+\n",
            "|class|                text|length|\n",
            "+-----+--------------------+------+\n",
            "| good|an amazing joysti...|   240|\n",
            "| good|Definitely a sile...|   320|\n",
            "|  bad|One Star poor qua...|    55|\n",
            "| good|good, but could b...|   107|\n",
            "| good|Great but flawed....|   108|\n",
            "|  bad|One Star The remo...|    70|\n",
            "| good|A Must I have a 2...|    92|\n",
            "| good|Five Stars Perfec...|    75|\n",
            "| good| Five Stars Excelent|    19|\n",
            "| good|Four Stars Slippe...|    32|\n",
            "| good|Five Stars Love t...|    82|\n",
            "|  bad|Game will get stu...|   352|\n",
            "|  bad|We have tried it ...|   414|\n",
            "| good|Four Stars Works ...|    48|\n",
            "|  bad|Now i have to buy...|   156|\n",
            "| good|Five Stars perfec...|    63|\n",
            "| good|    Five Stars great|    16|\n",
            "| good|Five Stars Works ...|    91|\n",
            "| good|Five Stars Kids l...|    51|\n",
            "| good|Four Stars Goodngame|    20|\n",
            "+-----+--------------------+------+\n",
            "only showing top 20 rows\n",
            "\n"
          ],
          "name": "stdout"
        }
      ]
    },
    {
      "cell_type": "code",
      "metadata": {
        "id": "VBQMiKUOn1Xr",
        "colab_type": "code",
        "colab": {}
      },
      "source": [
        " from pyspark.ml.feature import Tokenizer, StopWordsRemover, HashingTF, IDF, StringIndexer\n",
        "# Create all the features to the data set\n",
        "pos_neg_to_num = StringIndexer(inputCol='class',outputCol='label')\n",
        "tokenizer = Tokenizer(inputCol=\"text\", outputCol=\"token_text\")\n",
        "stopremove = StopWordsRemover(inputCol='token_text',outputCol='stop_tokens')\n",
        "hashingTF = HashingTF(inputCol=\"token_text\", outputCol='hash_token')\n",
        "idf = IDF(inputCol='hash_token', outputCol='idf_token')"
      ],
      "execution_count": 0,
      "outputs": []
    },
    {
      "cell_type": "code",
      "metadata": {
        "id": "GFl6Ne-ntSBK",
        "colab_type": "code",
        "colab": {}
      },
      "source": [
        "\n",
        "from pyspark.ml.feature import VectorAssembler\n",
        "from pyspark.ml.linalg import Vector\n",
        "\n",
        "# Create feature vectors\n",
        "clean_up = VectorAssembler(inputCols=['idf_token', 'length'], outputCol='features')"
      ],
      "execution_count": 0,
      "outputs": []
    },
    {
      "cell_type": "code",
      "metadata": {
        "id": "xR8IoQMYuFkq",
        "colab_type": "code",
        "colab": {}
      },
      "source": [
        "#build pipeline to transform data\n",
        "from pyspark.ml import Pipeline\n",
        "data_prep_pipeline = Pipeline(stages=[pos_neg_to_num, tokenizer, stopremove, hashingTF, idf, clean_up])"
      ],
      "execution_count": 0,
      "outputs": []
    },
    {
      "cell_type": "code",
      "metadata": {
        "id": "xJdLPZYOuO-l",
        "colab_type": "code",
        "colab": {}
      },
      "source": [
        "cleaner = data_prep_pipeline.fit(testdfna)\n",
        "cleaner2 = data_prep_pipeline.fit(testdfna2)\n",
        "cleaned = cleaner.transform(testdfna)\n",
        "cleaned2 = cleaner.transform(testdfna)"
      ],
      "execution_count": 0,
      "outputs": []
    },
    {
      "cell_type": "code",
      "metadata": {
        "id": "iNp6lGVRuaGS",
        "colab_type": "code",
        "outputId": "1d623a14-ad72-4a37-b067-7a65cfc4b783",
        "colab": {
          "base_uri": "https://localhost:8080/",
          "height": 478
        }
      },
      "source": [
        "cleaned.select(['label', 'features']).show()"
      ],
      "execution_count": 0,
      "outputs": [
        {
          "output_type": "stream",
          "text": [
            "+-----+--------------------+\n",
            "|label|            features|\n",
            "+-----+--------------------+\n",
            "|  0.0|(262145,[15775,16...|\n",
            "|  0.0|(262145,[1536,120...|\n",
            "|  1.0|(262145,[15889,34...|\n",
            "|  0.0|(262145,[9129,410...|\n",
            "|  0.0|(262145,[16332,29...|\n",
            "|  1.0|(262145,[12142,78...|\n",
            "|  0.0|(262145,[14,15889...|\n",
            "|  0.0|(262145,[11382,12...|\n",
            "|  0.0|(262145,[12710,74...|\n",
            "|  0.0|(262145,[74975,93...|\n",
            "|  0.0|(262145,[12710,16...|\n",
            "|  1.0|(262145,[2437,420...|\n",
            "|  1.0|(262145,[2437,844...|\n",
            "|  0.0|(262145,[12888,74...|\n",
            "|  1.0|(262145,[24417,28...|\n",
            "|  0.0|(262145,[12710,12...|\n",
            "|  0.0|(262145,[12710,74...|\n",
            "|  0.0|(262145,[9639,127...|\n",
            "|  0.0|(262145,[12710,26...|\n",
            "|  0.0|(262145,[74975,93...|\n",
            "+-----+--------------------+\n",
            "only showing top 20 rows\n",
            "\n"
          ],
          "name": "stdout"
        }
      ]
    },
    {
      "cell_type": "code",
      "metadata": {
        "id": "8clyRaoRwX4o",
        "colab_type": "code",
        "colab": {}
      },
      "source": [
        "from pyspark.ml.classification import NaiveBayes\n",
        "# split\n",
        "training, testing = cleaned.randomSplit([0.7, 0.3])\n",
        "\n",
        "training2, testing2 = cleaned2.randomSplit([0.7, 0.3])\n",
        "\n",
        "#fit\n",
        "nb = NaiveBayes()\n",
        "predictor = nb.fit(training)"
      ],
      "execution_count": 0,
      "outputs": []
    },
    {
      "cell_type": "code",
      "metadata": {
        "id": "AiQXnqVb293e",
        "colab_type": "code",
        "outputId": "18abb2cc-9daa-4a93-b2c5-dd99c7a15aa2",
        "colab": {
          "base_uri": "https://localhost:8080/",
          "height": 34
        }
      },
      "source": [
        "from pyspark.ml.evaluation import MulticlassClassificationEvaluator\n",
        "\n",
        "test_results = predictor.transform(testing)\n",
        "\n",
        "acc_eval = MulticlassClassificationEvaluator()\n",
        "acc = acc_eval.evaluate(test_results)\n",
        "print(\"Accuracy of model at predicting reviews was: %f\" % acc)"
      ],
      "execution_count": 0,
      "outputs": [
        {
          "output_type": "stream",
          "text": [
            "Accuracy of model at predicting reviews was: 0.874746\n"
          ],
          "name": "stdout"
        }
      ]
    },
    {
      "cell_type": "code",
      "metadata": {
        "id": "HkkRbOvs-Ph8",
        "colab_type": "code",
        "outputId": "336ea095-3e34-461b-b570-86873b92e041",
        "colab": {
          "base_uri": "https://localhost:8080/",
          "height": 212
        }
      },
      "source": [
        "test_results.show(5)"
      ],
      "execution_count": 0,
      "outputs": [
        {
          "output_type": "stream",
          "text": [
            "+-----+--------------------+------+-----+--------------------+--------------------+--------------------+--------------------+--------------------+--------------------+--------------------+----------+\n",
            "|class|                text|length|label|          token_text|         stop_tokens|          hash_token|           idf_token|            features|       rawPrediction|         probability|prediction|\n",
            "+-----+--------------------+------+-----+--------------------+--------------------+--------------------+--------------------+--------------------+--------------------+--------------------+----------+\n",
            "|  bad|\u001a\u001a\u001a\u001a\u001a\u001a\u001a\u001a\u001a\u001a\u001a\u001a\u001a\u001a\u001a\u001a\u001a...|   136|  1.0|[\u001a\u001a\u001a\u001a\u001a\u001a\u001a\u001a\u001a\u001a\u001a\u001a\u001a\u001a\u001a\u001a...|[\u001a\u001a\u001a\u001a\u001a\u001a\u001a\u001a\u001a\u001a\u001a\u001a\u001a\u001a\u001a\u001a...|(262144,[24698,28...|(262144,[24698,28...|(262145,[24698,28...|[-673.98598243308...|[3.76364080306958...|       1.0|\n",
            "|  bad|\u001a\u001a\u001a\u001a\u001a\u001a\u001a\u001a\u001a\u001a\u001a\u001a\u001a\u001a\u001a\u001a\u001a...|    62|  1.0|[\u001a\u001a\u001a\u001a\u001a\u001a\u001a\u001a\u001a\u001a\u001a\u001a\u001a\u001a\u001a\u001a...|[\u001a\u001a\u001a\u001a\u001a\u001a\u001a\u001a\u001a\u001a\u001a\u001a\u001a\u001a\u001a\u001a...|(262144,[24417,34...|(262144,[24417,34...|(262145,[24417,34...|[-513.66999336772...|[4.29475814441052...|       1.0|\n",
            "|  bad|\u001a\u001a\u001a\u001a\u001a\u001a\u001a\u001a\u001a\u001a\u001a\u001a I wi...|   195|  1.0|[\u001a\u001a\u001a\u001a\u001a\u001a\u001a\u001a\u001a\u001a\u001a\u001a, i,...|[\u001a\u001a\u001a\u001a\u001a\u001a\u001a\u001a\u001a\u001a\u001a\u001a, wi...|(262144,[9639,160...|(262144,[9639,160...|(262145,[9639,160...|[-1282.8378275506...|[4.61094191226443...|       1.0|\n",
            "|  bad|\u001a\u001a\u001a\u001a\u001a\u001a Not happy ...|   221|  1.0|[\u001a\u001a\u001a\u001a\u001a\u001a, not, hap...|[\u001a\u001a\u001a\u001a\u001a\u001a, happy, d...|(262144,[2050,439...|(262144,[2050,439...|(262145,[2050,439...|[-1645.9883103790...|[4.59850073244033...|       1.0|\n",
            "|  bad|\u001a\u001a\u001a\u001a\u001a\u001a Only works...|    36|  1.0|[\u001a\u001a\u001a\u001a\u001a\u001a, only, wo...|[\u001a\u001a\u001a\u001a\u001a\u001a, works, s...|(262144,[9129,128...|(262144,[9129,128...|(262145,[9129,128...|[-329.19570340515...|[0.99869142249486...|       0.0|\n",
            "+-----+--------------------+------+-----+--------------------+--------------------+--------------------+--------------------+--------------------+--------------------+--------------------+----------+\n",
            "only showing top 5 rows\n",
            "\n"
          ],
          "name": "stdout"
        }
      ]
    },
    {
      "cell_type": "code",
      "metadata": {
        "id": "TVdHJDM0m_WX",
        "colab_type": "code",
        "colab": {}
      },
      "source": [
        "testpred = test_results.select(\"label\", \"prediction\").toPandas()"
      ],
      "execution_count": 0,
      "outputs": []
    },
    {
      "cell_type": "code",
      "metadata": {
        "id": "6P9WUtwQ0bl7",
        "colab_type": "code",
        "outputId": "a66ead20-e4ff-498e-a5df-7645fc3a7d56",
        "colab": {
          "base_uri": "https://localhost:8080/",
          "height": 52
        }
      },
      "source": [
        "from sklearn.metrics import confusion_matrix\n",
        "matrix = confusion_matrix(testpred[\"label\"], testpred[\"prediction\"])\n",
        "matrix"
      ],
      "execution_count": 0,
      "outputs": [
        {
          "output_type": "execute_result",
          "data": {
            "text/plain": [
              "array([[395551,  54505],\n",
              "       [ 17476,  68623]])"
            ]
          },
          "metadata": {
            "tags": []
          },
          "execution_count": 27
        }
      ]
    },
    {
      "cell_type": "code",
      "metadata": {
        "id": "1sJb8vh26Gdy",
        "colab_type": "code",
        "outputId": "8161074c-13ee-45be-ee1c-7470c64afc4f",
        "colab": {
          "base_uri": "https://localhost:8080/",
          "height": 125
        }
      },
      "source": [
        "from google.colab import drive\n",
        "drive.mount('/content/gdrive')"
      ],
      "execution_count": 0,
      "outputs": [
        {
          "output_type": "stream",
          "text": [
            "Go to this URL in a browser: https://accounts.google.com/o/oauth2/auth?client_id=947318989803-6bn6qk8qdgf4n4g3pfee6491hc0brc4i.apps.googleusercontent.com&redirect_uri=urn%3aietf%3awg%3aoauth%3a2.0%3aoob&response_type=code&scope=email%20https%3a%2f%2fwww.googleapis.com%2fauth%2fdocs.test%20https%3a%2f%2fwww.googleapis.com%2fauth%2fdrive%20https%3a%2f%2fwww.googleapis.com%2fauth%2fdrive.photos.readonly%20https%3a%2f%2fwww.googleapis.com%2fauth%2fpeopleapi.readonly\n",
            "\n",
            "Enter your authorization code:\n",
            "··········\n",
            "Mounted at /content/gdrive\n"
          ],
          "name": "stdout"
        }
      ]
    },
    {
      "cell_type": "code",
      "metadata": {
        "id": "GMM083EX6QSr",
        "colab_type": "code",
        "colab": {}
      },
      "source": [
        "model_save_name = 'classifier.json'\n",
        "path = f\"/content/gdrive/My Drive/{model_save_name}\"\n",
        "predictor.write().overwrite().save(path)"
      ],
      "execution_count": 0,
      "outputs": []
    },
    {
      "cell_type": "code",
      "metadata": {
        "id": "ggJH6Hy89ou9",
        "colab_type": "code",
        "colab": {}
      },
      "source": [
        "from pyspark.ml.classification import NaiveBayesModel\n",
        "\n",
        "loaded = NaiveBayesModel.load(path)"
      ],
      "execution_count": 0,
      "outputs": []
    },
    {
      "cell_type": "code",
      "metadata": {
        "id": "T0Eg_d6N976j",
        "colab_type": "code",
        "colab": {}
      },
      "source": [
        "training2, testing2 = cleaned.randomSplit([0.999, 0.001])\n",
        "loadedres = loaded.transform(testing2)\n",
        "acc_eval2 = MulticlassClassificationEvaluator()\n",
        "acc2 = acc_eval.evaluate(loadedres)\n",
        "print(f'Accuracy of loaded model is {acc2}')"
      ],
      "execution_count": 0,
      "outputs": []
    },
    {
      "cell_type": "code",
      "metadata": {
        "id": "1wzgsaNl9_o6",
        "colab_type": "code",
        "colab": {}
      },
      "source": [
        "#TODO = hyperparameter tuning with CV\n",
        "spark.stop()"
      ],
      "execution_count": 0,
      "outputs": []
    },
    {
      "cell_type": "code",
      "metadata": {
        "id": "ZHFGuZ09-C9c",
        "colab_type": "code",
        "colab": {}
      },
      "source": [
        ""
      ],
      "execution_count": 0,
      "outputs": []
    }
  ]
}